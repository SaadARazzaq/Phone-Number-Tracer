{
  "nbformat": 4,
  "nbformat_minor": 0,
  "metadata": {
    "colab": {
      "provenance": [],
      "authorship_tag": "ABX9TyNI4BiyvCfURqOXx6BeJWtU",
      "include_colab_link": true
    },
    "kernelspec": {
      "name": "python3",
      "display_name": "Python 3"
    },
    "language_info": {
      "name": "python"
    }
  },
  "cells": [
    {
      "cell_type": "markdown",
      "metadata": {
        "id": "view-in-github",
        "colab_type": "text"
      },
      "source": [
        "<a href=\"https://colab.research.google.com/github/SaadARazzaq/Phone-Number-Tracer/blob/main/src.ipynb\" target=\"_parent\"><img src=\"https://colab.research.google.com/assets/colab-badge.svg\" alt=\"Open In Colab\"/></a>"
      ]
    },
    {
      "cell_type": "code",
      "execution_count": 25,
      "metadata": {
        "colab": {
          "base_uri": "https://localhost:8080/"
        },
        "id": "ZeqVdNRzHtOo",
        "outputId": "3323265e-ffb2-4999-e2ed-6b1c96d635f8"
      },
      "outputs": [
        {
          "output_type": "stream",
          "name": "stdout",
          "text": [
            "Requirement already satisfied: phonenumbers in /usr/local/lib/python3.10/dist-packages (8.13.17)\n"
          ]
        }
      ],
      "source": [
        "!pip install phonenumbers"
      ]
    },
    {
      "cell_type": "code",
      "source": [
        "import phonenumbers as pn\n",
        "from phonenumbers import timezone, geocoder, carrier"
      ],
      "metadata": {
        "id": "uNtLcwo7H5i7"
      },
      "execution_count": 26,
      "outputs": []
    },
    {
      "cell_type": "code",
      "source": [
        "phone_number = input(\"Enter phone number with (+__) format: \")\n",
        "info = pn.parse(phone_number)"
      ],
      "metadata": {
        "colab": {
          "base_uri": "https://localhost:8080/"
        },
        "id": "S1wyVH1DIQaC",
        "outputId": "d285854e-2ec2-492d-8911-674ba5d5f9c6"
      },
      "execution_count": 27,
      "outputs": [
        {
          "name": "stdout",
          "output_type": "stream",
          "text": [
            "Enter phone number with (+__) format: +923036668942\n"
          ]
        }
      ]
    },
    {
      "cell_type": "code",
      "source": [
        "time = timezone.time_zones_for_number(info)"
      ],
      "metadata": {
        "id": "juBaFYUSJesy"
      },
      "execution_count": 29,
      "outputs": []
    },
    {
      "cell_type": "code",
      "source": [
        "Carrier = carrier.name_for_number(info, \"en\")"
      ],
      "metadata": {
        "id": "iqMh65yDJhQQ"
      },
      "execution_count": 30,
      "outputs": []
    },
    {
      "cell_type": "code",
      "source": [
        "reg = geocoder.description_for_number(info, \"en\")"
      ],
      "metadata": {
        "id": "wFBBsPvIKBwl"
      },
      "execution_count": 31,
      "outputs": []
    },
    {
      "cell_type": "code",
      "source": [
        "country = geocoder.country_name_for_number(info, \"en\")"
      ],
      "metadata": {
        "id": "5EgUI-_1KTBV"
      },
      "execution_count": 32,
      "outputs": []
    },
    {
      "cell_type": "code",
      "source": [
        "print(info)\n",
        "print(time)\n",
        "print(Carrier)\n",
        "print(reg)\n",
        "print(country)"
      ],
      "metadata": {
        "colab": {
          "base_uri": "https://localhost:8080/"
        },
        "id": "iGcW7cLrKp2X",
        "outputId": "96001e22-9dab-40c8-f80e-e3622e76666d"
      },
      "execution_count": 33,
      "outputs": [
        {
          "output_type": "stream",
          "name": "stdout",
          "text": [
            "Country Code: 92 National Number: 3036668942\n",
            "('Asia/Karachi',)\n",
            "Mobilink\n",
            "Pakistan\n",
            "Pakistan\n"
          ]
        }
      ]
    }
  ]
}