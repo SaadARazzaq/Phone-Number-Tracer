{
  "nbformat": 4,
  "nbformat_minor": 0,
  "metadata": {
    "colab": {
      "provenance": [],
      "authorship_tag": "ABX9TyM1q64NzEJN4tnGGvsShKAB",
      "include_colab_link": true
    },
    "kernelspec": {
      "name": "python3",
      "display_name": "Python 3"
    },
    "language_info": {
      "name": "python"
    }
  },
  "cells": [
    {
      "cell_type": "markdown",
      "metadata": {
        "id": "view-in-github",
        "colab_type": "text"
      },
      "source": [
        "<a href=\"https://colab.research.google.com/github/SaadARazzaq/Phone-Number-Tracer/blob/main/Source%20Code.ipynb\" target=\"_parent\"><img src=\"https://colab.research.google.com/assets/colab-badge.svg\" alt=\"Open In Colab\"/></a>"
      ]
    },
    {
      "cell_type": "code",
      "execution_count": 36,
      "metadata": {
        "colab": {
          "base_uri": "https://localhost:8080/"
        },
        "id": "ZeqVdNRzHtOo",
        "outputId": "9fc9148f-f094-41a5-95b3-cc621b2fdd1a"
      },
      "outputs": [
        {
          "output_type": "stream",
          "name": "stdout",
          "text": [
            "Requirement already satisfied: phonenumbers in /usr/local/lib/python3.10/dist-packages (8.13.17)\n"
          ]
        }
      ],
      "source": [
        "!pip install phonenumbers"
      ]
    },
    {
      "cell_type": "code",
      "source": [
        "import phonenumbers as pn\n",
        "from phonenumbers import timezone, geocoder, carrier"
      ],
      "metadata": {
        "id": "rSUUpRvGQ9Gi"
      },
      "execution_count": 38,
      "outputs": []
    },
    {
      "cell_type": "code",
      "source": [
        "def validate_phone_number(phone_number):\n",
        "    try:\n",
        "        parsed_number = pn.parse(phone_number)\n",
        "        if pn.is_possible_number(parsed_number):\n",
        "            return parsed_number\n",
        "        else:\n",
        "            print(\"The phone number is not valid or not possible.\")\n",
        "            return None\n",
        "    except pn.NumberParseException as e:\n",
        "        print(f\"Error: {e}\")\n",
        "        return None"
      ],
      "metadata": {
        "id": "uNtLcwo7H5i7"
      },
      "execution_count": 41,
      "outputs": []
    },
    {
      "cell_type": "code",
      "source": [
        "def get_number_type(parsed_number):\n",
        "    return pn.number_type(parsed_number)"
      ],
      "metadata": {
        "id": "S1wyVH1DIQaC"
      },
      "execution_count": 45,
      "outputs": []
    },
    {
      "cell_type": "code",
      "source": [
        "def main():\n",
        "    phone_number = input(\"Enter phone number with (+__) format: \")\n",
        "    parsed_number = validate_phone_number(phone_number)\n",
        "\n",
        "    if parsed_number:\n",
        "        time_zones = timezone.time_zones_for_number(parsed_number)\n",
        "        carrier_name = carrier.name_for_number(parsed_number, \"en\")\n",
        "        region = geocoder.description_for_number(parsed_number, \"en\")\n",
        "        country_name = geocoder.country_name_for_number(parsed_number, \"en\")\n",
        "        number_type = get_number_type(parsed_number)\n",
        "\n",
        "        print(\"\\nPhone Number Information:\")\n",
        "        print(f\"Number: {parsed_number.national_number}\")\n",
        "        print(f\"International Format: +{parsed_number.country_code}{parsed_number.national_number}\")\n",
        "        print(f\"Time Zones: {', '.join(time_zones)}\")\n",
        "        print(f\"Carrier: {carrier_name}\")\n",
        "        print(f\"Region: {region}\")\n",
        "        print(f\"Country: {country_name}\")\n",
        "        print(f\"Number Type: {number_type}\")"
      ],
      "metadata": {
        "id": "juBaFYUSJesy"
      },
      "execution_count": 48,
      "outputs": []
    },
    {
      "cell_type": "code",
      "source": [
        "if __name__ == \"__main__\":\n",
        "    main()"
      ],
      "metadata": {
        "colab": {
          "base_uri": "https://localhost:8080/"
        },
        "id": "iqMh65yDJhQQ",
        "outputId": "314fe7d6-50df-4666-8203-61771af9f21b"
      },
      "execution_count": 51,
      "outputs": [
        {
          "output_type": "stream",
          "name": "stdout",
          "text": [
            "Enter phone number with (+__) format: +923036668942\n",
            "\n",
            "Phone Number Information:\n",
            "Number: 3036668942\n",
            "International Format: +923036668942\n",
            "Time Zones: Asia/Karachi\n",
            "Carrier: Mobilink\n",
            "Region: Pakistan\n",
            "Country: Pakistan\n",
            "Number Type: 1\n"
          ]
        }
      ]
    }
  ]
}